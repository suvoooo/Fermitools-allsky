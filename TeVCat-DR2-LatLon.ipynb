{
 "cells": [
  {
   "cell_type": "code",
   "execution_count": 1,
   "id": "e699da9d",
   "metadata": {},
   "outputs": [],
   "source": [
    "import matplotlib.pyplot as plt\n",
    "import numpy as np\n",
    "\n",
    "\n",
    "from astropy.io import fits \n",
    "import pandas as pd\n",
    "from astropy.table import Table\n",
    "from astropy.coordinates import SkyCoord\n",
    "import astropy.units as u"
   ]
  },
  {
   "cell_type": "code",
   "execution_count": 2,
   "id": "af83c1a2",
   "metadata": {},
   "outputs": [],
   "source": [
    "from gammapy.data import DataStore"
   ]
  },
  {
   "cell_type": "code",
   "execution_count": 3,
   "id": "b1ce81e0",
   "metadata": {},
   "outputs": [
    {
     "data": {
      "text/plain": [
       "[gammapy.catalog.gammacat.SourceCatalogGammaCat,\n",
       " gammapy.catalog.hess.SourceCatalogHGPS,\n",
       " gammapy.catalog.hawc.SourceCatalog2HWC,\n",
       " gammapy.catalog.fermi.SourceCatalog3FGL,\n",
       " gammapy.catalog.fermi.SourceCatalog4FGL,\n",
       " gammapy.catalog.fermi.SourceCatalog2FHL,\n",
       " gammapy.catalog.fermi.SourceCatalog3FHL,\n",
       " gammapy.catalog.hawc.SourceCatalog3HWC]"
      ]
     },
     "execution_count": 3,
     "metadata": {},
     "output_type": "execute_result"
    }
   ],
   "source": [
    "from gammapy.catalog import CATALOG_REGISTRY\n",
    "CATALOG_REGISTRY"
   ]
  },
  {
   "cell_type": "markdown",
   "id": "72dc86a0",
   "metadata": {},
   "source": [
    "### Use [Gamma-Cat](https://gamma-cat.readthedocs.io/data/catalog.html) Catalog"
   ]
  },
  {
   "cell_type": "code",
   "execution_count": 4,
   "id": "f0417754",
   "metadata": {},
   "outputs": [
    {
     "data": {
      "text/html": [
       "<div><i>Table length=5</i>\n",
       "<table id=\"table140686791788240\" class=\"table-striped table-bordered table-condensed\">\n",
       "<thead><tr><th>source_id</th><th>common_name</th><th>gamma_names</th><th>fermi_names</th><th>other_names</th><th>where</th><th>classes</th><th>discoverer</th><th>seen_by</th><th>discovery_date</th><th>tevcat_id</th><th>tevcat2_id</th><th>tevcat_name</th><th>tgevcat_id</th><th>tgevcat_name</th><th>reference_id</th><th>significance</th><th>livetime</th><th>ra</th><th>dec</th><th>glon</th><th>glat</th><th>pos_ra</th><th>pos_dec</th><th>pos_glon</th><th>pos_glat</th><th>pos_err</th><th>morph_type</th><th>morph_sigma</th><th>morph_sigma_err</th><th>morph_sigma2</th><th>morph_sigma2_err</th><th>morph_pa</th><th>morph_pa_err</th><th>morph_pa_frame</th><th>spec_type</th><th>spec_pl_norm</th><th>spec_pl_norm_err</th><th>spec_pl_norm_err_sys</th><th>spec_pl_index</th><th>spec_pl_index_err</th><th>spec_pl_index_err_sys</th><th>spec_pl_e_ref</th><th>spec_pl2_flux</th><th>spec_pl2_flux_err</th><th>spec_pl2_flux_err_sys</th><th>spec_pl2_index</th><th>spec_pl2_index_err</th><th>spec_pl2_index_err_sys</th><th>spec_pl2_e_min</th><th>spec_pl2_e_max</th><th>spec_ecpl_norm</th><th>spec_ecpl_norm_err</th><th>spec_ecpl_norm_err_sys</th><th>spec_ecpl_index</th><th>spec_ecpl_index_err</th><th>spec_ecpl_index_err_sys</th><th>spec_ecpl_e_cut</th><th>spec_ecpl_e_cut_err</th><th>spec_ecpl_e_cut_err_sys</th><th>spec_ecpl_e_ref</th><th>spec_erange_min</th><th>spec_erange_max</th><th>spec_theta</th><th>spec_dnde_1TeV</th><th>spec_dnde_1TeV_err</th><th>spec_flux_1TeV</th><th>spec_flux_1TeV_err</th><th>spec_flux_1TeV_crab</th><th>spec_flux_1TeV_crab_err</th><th>spec_eflux_1TeV_10TeV</th><th>spec_eflux_1TeV_10TeV_err</th><th>sed_reference_id</th><th>sed_n_points</th><th>sed_n_ul</th><th>sed_e_ref</th><th>sed_e_min</th><th>sed_e_max</th><th>sed_dnde</th><th>sed_dnde_err</th><th>sed_dnde_errp</th><th>sed_dnde_errn</th><th>sed_dnde_ul</th></tr></thead>\n",
       "<thead><tr><th></th><th></th><th></th><th></th><th></th><th></th><th></th><th></th><th></th><th></th><th></th><th></th><th></th><th></th><th></th><th></th><th></th><th>h</th><th>deg</th><th>deg</th><th>deg</th><th>deg</th><th>deg</th><th>deg</th><th>deg</th><th>deg</th><th>deg</th><th></th><th>deg</th><th>deg</th><th>deg</th><th>deg</th><th>deg</th><th>deg</th><th></th><th></th><th>1 / (TeV s cm2)</th><th>1 / (TeV s cm2)</th><th>1 / (TeV s cm2)</th><th></th><th></th><th></th><th>TeV</th><th>1 / (s cm2)</th><th>1 / (s cm2)</th><th>1 / (s cm2)</th><th></th><th></th><th></th><th>TeV</th><th>TeV</th><th>1 / (TeV s cm2)</th><th>1 / (TeV s cm2)</th><th>1 / (TeV s cm2)</th><th></th><th></th><th></th><th>TeV</th><th>TeV</th><th>TeV</th><th>TeV</th><th>TeV</th><th>TeV</th><th>deg</th><th>1 / (TeV s cm2)</th><th>1 / (TeV s cm2)</th><th>1 / (s cm2)</th><th>1 / (s cm2)</th><th></th><th></th><th>erg / (s cm2)</th><th>erg / (s cm2)</th><th></th><th></th><th></th><th>TeV</th><th>TeV</th><th>TeV</th><th>1 / (TeV s cm2)</th><th>1 / (TeV s cm2)</th><th>1 / (TeV s cm2)</th><th>1 / (TeV s cm2)</th><th>1 / (TeV s cm2)</th></tr></thead>\n",
       "<thead><tr><th>int32</th><th>bytes21</th><th>bytes76</th><th>bytes72</th><th>bytes73</th><th>bytes4</th><th>bytes11</th><th>bytes8</th><th>bytes35</th><th>bytes7</th><th>int64</th><th>bytes6</th><th>bytes14</th><th>int64</th><th>bytes14</th><th>bytes19</th><th>float32</th><th>float32</th><th>float32</th><th>float32</th><th>float32</th><th>float32</th><th>float32</th><th>float32</th><th>float32</th><th>float32</th><th>float32</th><th>bytes5</th><th>float32</th><th>float32</th><th>float32</th><th>float32</th><th>float32</th><th>float32</th><th>bytes8</th><th>bytes4</th><th>float32</th><th>float32</th><th>float32</th><th>float32</th><th>float32</th><th>float32</th><th>float32</th><th>float32</th><th>float32</th><th>float32</th><th>float32</th><th>float32</th><th>float32</th><th>float32</th><th>float32</th><th>float32</th><th>float32</th><th>float32</th><th>float32</th><th>float32</th><th>float32</th><th>float32</th><th>float32</th><th>float32</th><th>float32</th><th>float32</th><th>float32</th><th>float32</th><th>float32</th><th>float32</th><th>float32</th><th>float32</th><th>float32</th><th>float32</th><th>float32</th><th>float32</th><th>bytes19</th><th>int32</th><th>int32</th><th>float32[40]</th><th>float32[40]</th><th>float32[40]</th><th>float32[40]</th><th>float32[40]</th><th>float32[40]</th><th>float32[40]</th><th>float32[40]</th></tr></thead>\n",
       "<tr><td>1</td><td>CTA 1</td><td>VER J0006+729</td><td>--</td><td>SNR G119.5+10.2</td><td>gal</td><td>pwn,snr</td><td>veritas</td><td>veritas</td><td>2011-10</td><td>227</td><td>rC5JCj</td><td>TeV J0006+729</td><td>1</td><td>TeV J0006+7259</td><td>2013ApJ...764...38A</td><td>7.5</td><td>41.25</td><td>1.65</td><td>72.783</td><td>119.58025</td><td>10.203682</td><td>1.6083333</td><td>72.98361</td><td>119.603905</td><td>10.4033165</td><td>0.06</td><td>gauss</td><td>0.3</td><td>0.03</td><td>0.24</td><td>0.03</td><td>17.4</td><td>15.8</td><td>radec</td><td>pl</td><td>9.1e-14</td><td>1.3e-14</td><td>1.7e-14</td><td>2.2</td><td>0.2</td><td>0.3</td><td>3.0</td><td>--</td><td>--</td><td>--</td><td>--</td><td>--</td><td>--</td><td>--</td><td>--</td><td>--</td><td>--</td><td>--</td><td>--</td><td>--</td><td>--</td><td>--</td><td>--</td><td>--</td><td>--</td><td>--</td><td>--</td><td>--</td><td>1.0202537e-12</td><td>2.6738846e-13</td><td>8.502113e-13</td><td>1.2956478e-13</td><td>4.098503</td><td>0.6245761</td><td>3.0162344e-12</td><td>4.314187e-13</td><td>2013ApJ...764...38A</td><td>6</td><td>0</td><td>-- .. --</td><td>0.56 .. --</td><td>1.0 .. --</td><td>1.9e-12 .. --</td><td>9e-13 .. --</td><td>-- .. --</td><td>-- .. --</td><td>-- .. --</td></tr>\n",
       "<tr><td>2</td><td>SHBL J001355.9-185406</td><td>--</td><td>--</td><td>--</td><td>egal</td><td>hbl</td><td>hess</td><td>hess</td><td>2010-11</td><td>213</td><td>70hRXZ</td><td>TeV J0013-188</td><td>2</td><td>TeV J0013-1853</td><td>--</td><td>--</td><td>--</td><td>3.4835584</td><td>-18.901848</td><td>74.63201</td><td>-78.08694</td><td>--</td><td>--</td><td>--</td><td>--</td><td>--</td><td>none</td><td>--</td><td>--</td><td>--</td><td>--</td><td>--</td><td>--</td><td>--</td><td>none</td><td>--</td><td>--</td><td>--</td><td>--</td><td>--</td><td>--</td><td>--</td><td>--</td><td>--</td><td>--</td><td>--</td><td>--</td><td>--</td><td>--</td><td>--</td><td>--</td><td>--</td><td>--</td><td>--</td><td>--</td><td>--</td><td>--</td><td>--</td><td>--</td><td>--</td><td>--</td><td>--</td><td>--</td><td>--</td><td>--</td><td>--</td><td>--</td><td>--</td><td>--</td><td>--</td><td>--</td><td>--</td><td>0</td><td>0</td><td>-- .. --</td><td>-- .. --</td><td>-- .. --</td><td>-- .. --</td><td>-- .. --</td><td>-- .. --</td><td>-- .. --</td><td>-- .. --</td></tr>\n",
       "<tr><td>3</td><td>Tycho SNR</td><td>--</td><td>--</td><td>SNR G120.1+1.4,3C10,SN1572</td><td>gal</td><td>snr</td><td>veritas</td><td>veritas</td><td>2010-05</td><td>209</td><td>xCyAjF</td><td>TeV J0025+641</td><td>3</td><td>TeV J0025+6410</td><td>2017arXiv170106740V</td><td>6.9</td><td>147.0</td><td>6.3397</td><td>64.1408</td><td>120.09236</td><td>1.4129305</td><td>6.34</td><td>64.13</td><td>120.0914</td><td>1.4021726</td><td>0.024494898</td><td>point</td><td>--</td><td>--</td><td>--</td><td>--</td><td>--</td><td>--</td><td>--</td><td>pl</td><td>2.2e-13</td><td>5e-14</td><td>6e-14</td><td>2.92</td><td>0.42</td><td>0.2</td><td>1.0</td><td>--</td><td>--</td><td>--</td><td>--</td><td>--</td><td>--</td><td>--</td><td>--</td><td>--</td><td>--</td><td>--</td><td>--</td><td>--</td><td>--</td><td>--</td><td>--</td><td>--</td><td>--</td><td>--</td><td>--</td><td>--</td><td>2.2e-13</td><td>5e-14</td><td>1.1458334e-13</td><td>3.6144542e-14</td><td>0.55235696</td><td>0.1742373</td><td>3.370669e-13</td><td>1.3349918e-13</td><td>--</td><td>0</td><td>0</td><td>-- .. --</td><td>-- .. --</td><td>-- .. --</td><td>-- .. --</td><td>-- .. --</td><td>-- .. --</td><td>-- .. --</td><td>-- .. --</td></tr>\n",
       "<tr><td>4</td><td>KUV 00311-1938</td><td>--</td><td>--</td><td>--</td><td>egal</td><td>hbl</td><td>hess</td><td>hess</td><td>2012-07</td><td>239</td><td>PKJZqs</td><td>TeV J0033-193</td><td>4</td><td>TeV J0033-1921</td><td>--</td><td>--</td><td>--</td><td>8.393288</td><td>-19.359205</td><td>94.174644</td><td>-81.2161</td><td>--</td><td>--</td><td>--</td><td>--</td><td>--</td><td>none</td><td>--</td><td>--</td><td>--</td><td>--</td><td>--</td><td>--</td><td>--</td><td>none</td><td>--</td><td>--</td><td>--</td><td>--</td><td>--</td><td>--</td><td>--</td><td>--</td><td>--</td><td>--</td><td>--</td><td>--</td><td>--</td><td>--</td><td>--</td><td>--</td><td>--</td><td>--</td><td>--</td><td>--</td><td>--</td><td>--</td><td>--</td><td>--</td><td>--</td><td>--</td><td>--</td><td>--</td><td>--</td><td>--</td><td>--</td><td>--</td><td>--</td><td>--</td><td>--</td><td>--</td><td>--</td><td>0</td><td>0</td><td>-- .. --</td><td>-- .. --</td><td>-- .. --</td><td>-- .. --</td><td>-- .. --</td><td>-- .. --</td><td>-- .. --</td><td>-- .. --</td></tr>\n",
       "<tr><td>5</td><td>1ES 0033+595</td><td>--</td><td>--</td><td>--</td><td>egal</td><td>hbl</td><td>magic</td><td>magic</td><td>2011-10</td><td>229</td><td>eNYfrm</td><td>TeV J0035+598</td><td>5</td><td>TeV J0035+5947</td><td>--</td><td>--</td><td>--</td><td>8.968975</td><td>59.834496</td><td>120.975426</td><td>-2.97812</td><td>--</td><td>--</td><td>--</td><td>--</td><td>--</td><td>none</td><td>--</td><td>--</td><td>--</td><td>--</td><td>--</td><td>--</td><td>--</td><td>none</td><td>--</td><td>--</td><td>--</td><td>--</td><td>--</td><td>--</td><td>--</td><td>--</td><td>--</td><td>--</td><td>--</td><td>--</td><td>--</td><td>--</td><td>--</td><td>--</td><td>--</td><td>--</td><td>--</td><td>--</td><td>--</td><td>--</td><td>--</td><td>--</td><td>--</td><td>--</td><td>--</td><td>--</td><td>--</td><td>--</td><td>--</td><td>--</td><td>--</td><td>--</td><td>--</td><td>--</td><td>--</td><td>0</td><td>0</td><td>-- .. --</td><td>-- .. --</td><td>-- .. --</td><td>-- .. --</td><td>-- .. --</td><td>-- .. --</td><td>-- .. --</td><td>-- .. --</td></tr>\n",
       "</table></div>"
      ],
      "text/plain": [
       "<Table length=5>\n",
       "source_id      common_name      ...  sed_dnde_errn    sed_dnde_ul  \n",
       "                                ... 1 / (TeV s cm2) 1 / (TeV s cm2)\n",
       "  int32          bytes21        ...   float32[40]     float32[40]  \n",
       "--------- --------------------- ... --------------- ---------------\n",
       "        1                 CTA 1 ...        -- .. --        -- .. --\n",
       "        2 SHBL J001355.9-185406 ...        -- .. --        -- .. --\n",
       "        3             Tycho SNR ...        -- .. --        -- .. --\n",
       "        4        KUV 00311-1938 ...        -- .. --        -- .. --\n",
       "        5          1ES 0033+595 ...        -- .. --        -- .. --"
      ]
     },
     "execution_count": 4,
     "metadata": {},
     "output_type": "execute_result"
    }
   ],
   "source": [
    "catalog_gammacat = CATALOG_REGISTRY.get_cls(\"gamma-cat\")()\n",
    "\n",
    "catalog_gammacat.table[0:5]"
   ]
  },
  {
   "cell_type": "markdown",
   "id": "d2a1bea3",
   "metadata": {},
   "source": [
    "#### Spectral Model is Not Available for ALL Sources"
   ]
  },
  {
   "cell_type": "code",
   "execution_count": 5,
   "id": "532d026a",
   "metadata": {},
   "outputs": [
    {
     "data": {
      "text/plain": [
       "('1ES 0033+595', NoneType)"
      ]
     },
     "execution_count": 5,
     "metadata": {},
     "output_type": "execute_result"
    }
   ],
   "source": [
    "example_Gamma_CAT_source = catalog_gammacat[\"1ES 0033+595\"]\n",
    "example_Gamma_CAT_source.name, type(example_Gamma_CAT_source.spectral_model())"
   ]
  },
  {
   "cell_type": "code",
   "execution_count": 6,
   "id": "717f1fa7",
   "metadata": {},
   "outputs": [
    {
     "name": "stdout",
     "output_type": "stream",
     "text": [
      "number of TeV Sources:  162\n"
     ]
    }
   ],
   "source": [
    "print ('number of TeV Sources: ', len(catalog_gammacat.table))"
   ]
  },
  {
   "cell_type": "markdown",
   "id": "ade5ea13",
   "metadata": {},
   "source": [
    "#### let's calculate the integrated flux for sources with defined spectral model"
   ]
  },
  {
   "cell_type": "code",
   "execution_count": 9,
   "id": "949f176d",
   "metadata": {},
   "outputs": [
    {
     "data": {
      "text/plain": [
       "('CTA 1', gammapy.modeling.models.spectral.PowerLawSpectralModel)"
      ]
     },
     "execution_count": 9,
     "metadata": {},
     "output_type": "execute_result"
    }
   ],
   "source": [
    "example_Gamma_CAT_source_1 = catalog_gammacat[\"CTA 1\"]\n",
    "example_Gamma_CAT_source_1.name, type(example_Gamma_CAT_source_1.spectral_model())"
   ]
  },
  {
   "cell_type": "code",
   "execution_count": 10,
   "id": "176ec5be",
   "metadata": {},
   "outputs": [
    {
     "name": "stdout",
     "output_type": "stream",
     "text": [
      "2.0619632560398227e-11 1 / (s cm2)\n"
     ]
    }
   ],
   "source": [
    "# 70 GeV to 10 TeV\n",
    "flux_Source1 = (example_Gamma_CAT_source_1.spectral_model().integral(70 * u.GeV, 10000 * u.GeV).to(\"cm-2 s-1\"))\n",
    "print (flux_Source1)"
   ]
  },
  {
   "cell_type": "markdown",
   "id": "9d8d2833",
   "metadata": {},
   "source": [
    "#### What about the source locations"
   ]
  },
  {
   "cell_type": "code",
   "execution_count": 19,
   "id": "33463982",
   "metadata": {},
   "outputs": [
    {
     "data": {
      "image/png": "[encoded data removed]",
      "text/plain": [
       "<Figure size 800x500 with 2 Axes>"
      ]
     },
     "metadata": {},
     "output_type": "display_data"
    }
   ],
   "source": [
    "fig = plt.figure(figsize=(8, 5))\n",
    "fig.add_subplot(121)\n",
    "plt.hist(catalog_gammacat.table['glat'], alpha=0.7)\n",
    "plt.xlabel('GLAT')\n",
    "fig.add_subplot(122)\n",
    "plt.hist(catalog_gammacat.table['glon'], alpha=0.7)\n",
    "plt.xlabel('GLON')\n",
    "plt.tight_layout()\n",
    "plt.show()"
   ]
  },
  {
   "cell_type": "code",
   "execution_count": 21,
   "id": "151acd56",
   "metadata": {},
   "outputs": [
    {
     "data": {
      "image/png": "[encoded data removed]",
      "text/plain": [
       "<Figure size 800x500 with 2 Axes>"
      ]
     },
     "metadata": {},
     "output_type": "display_data"
    }
   ],
   "source": [
    "fig = plt.figure(figsize=(8, 5))\n",
    "fig.add_subplot(121)\n",
    "plt.hist(np.sin(catalog_gammacat.table['glat']))\n",
    "plt.xlabel('sin(GLAT)')\n",
    "fig.add_subplot(122)\n",
    "plt.hist(catalog_gammacat.table['glon'])\n",
    "plt.tight_layout()\n",
    "plt.show()"
   ]
  },
  {
   "cell_type": "markdown",
   "id": "c032b866",
   "metadata": {},
   "source": [
    "### Compare the PSR locations from 4FGL"
   ]
  },
  {
   "cell_type": "code",
   "execution_count": 11,
   "id": "4ecc3d9a",
   "metadata": {},
   "outputs": [
    {
     "data": {
      "text/plain": [
       "ColDefs(\n",
       "    name = 'Source_Name'; format = '18A'\n",
       "    name = 'DataRelease'; format = 'I'; null = 16959\n",
       "    name = 'RAJ2000'; format = 'E'; unit = 'deg'; disp = 'F8.4'\n",
       "    name = 'DEJ2000'; format = 'E'; unit = 'deg'; disp = 'F8.4'\n",
       "    name = 'GLON'; format = 'E'; unit = 'deg'; disp = 'F8.4'\n",
       "    name = 'GLAT'; format = 'E'; unit = 'deg'; disp = 'F8.4'\n",
       "    name = 'Conf_68_SemiMajor'; format = 'E'; unit = 'deg'; disp = 'F8.4'\n",
       "    name = 'Conf_68_SemiMinor'; format = 'E'; unit = 'deg'; disp = 'F8.4'\n",
       "    name = 'Conf_68_PosAng'; format = 'E'; unit = 'deg'; disp = 'F8.3'\n",
       "    name = 'Conf_95_SemiMajor'; format = 'E'; unit = 'deg'; disp = 'F8.4'\n",
       "    name = 'Conf_95_SemiMinor'; format = 'E'; unit = 'deg'; disp = 'F8.4'\n",
       "    name = 'Conf_95_PosAng'; format = 'E'; unit = 'deg'; disp = 'F8.3'\n",
       "    name = 'ROI_num'; format = 'I'; null = 16959\n",
       "    name = 'Extended_Source_Name'; format = '18A'\n",
       "    name = 'Signif_Avg'; format = 'E'; disp = 'F8.3'\n",
       "    name = 'Pivot_Energy'; format = 'E'; unit = 'MeV'; disp = 'F10.2'\n",
       "    name = 'Flux1000'; format = 'E'; unit = 'ph cm-2 s-1'; disp = 'E10.4'\n",
       "    name = 'Unc_Flux1000'; format = 'E'; unit = 'ph cm-2 s-1'; disp = 'E10.4'\n",
       "    name = 'Energy_Flux100'; format = 'E'; unit = 'erg cm-2 s-1'; disp = 'E10.4'\n",
       "    name = 'Unc_Energy_Flux100'; format = 'E'; unit = 'erg cm-2 s-1'; disp = 'E10.4'\n",
       "    name = 'SpectrumType'; format = '17A'\n",
       "    name = 'PL_Flux_Density'; format = 'E'; unit = 'ph cm-2 MeV-1 s-1'; disp = 'E10.4'\n",
       "    name = 'Unc_PL_Flux_Density'; format = 'E'; unit = 'ph cm-2 MeV-1 s-1'; disp = 'E10.4'\n",
       "    name = 'PL_Index'; format = 'E'; disp = 'F8.4'\n",
       "    name = 'Unc_PL_Index'; format = 'E'; disp = 'F8.4'\n",
       "    name = 'LP_Flux_Density'; format = 'E'; unit = 'ph cm-2 MeV-1 s-1'; disp = 'E10.4'\n",
       "    name = 'Unc_LP_Flux_Density'; format = 'E'; unit = 'ph cm-2 MeV-1 s-1'; disp = 'E10.4'\n",
       "    name = 'LP_Index'; format = 'E'; disp = 'F8.4'\n",
       "    name = 'Unc_LP_Index'; format = 'E'; disp = 'F8.4'\n",
       "    name = 'LP_beta'; format = 'E'; disp = 'F8.4'\n",
       "    name = 'Unc_LP_beta'; format = 'E'; disp = 'F8.4'\n",
       "    name = 'LP_SigCurv'; format = 'E'; disp = 'F8.3'\n",
       "    name = 'PLEC_Flux_Density'; format = 'E'; unit = 'ph cm-2 MeV-1 s-1'; disp = 'E10.4'\n",
       "    name = 'Unc_PLEC_Flux_Density'; format = 'E'; unit = 'ph cm-2 MeV-1 s-1'; disp = 'E10.4'\n",
       "    name = 'PLEC_Index'; format = 'E'; disp = 'F8.4'\n",
       "    name = 'Unc_PLEC_Index'; format = 'E'; disp = 'F8.4'\n",
       "    name = 'PLEC_Expfactor'; format = 'E'; disp = 'F8.5'\n",
       "    name = 'Unc_PLEC_Expfactor'; format = 'E'; disp = 'F8.5'\n",
       "    name = 'PLEC_Exp_Index'; format = 'E'; disp = 'F8.4'\n",
       "    name = 'Unc_PLEC_Exp_Index'; format = 'E'; disp = 'F8.4'\n",
       "    name = 'PLEC_SigCurv'; format = 'E'; disp = 'F8.3'\n",
       "    name = 'Npred'; format = 'E'; disp = 'F10.2'\n",
       "    name = 'Flux_Band'; format = '7E'; unit = 'ph cm-2 s-1'\n",
       "    name = 'Unc_Flux_Band'; format = '14E'; unit = 'ph cm-2 s-1'; dim = '( 2, 7)'\n",
       "    name = 'nuFnu_Band'; format = '7E'; unit = 'erg cm-2 s-1'\n",
       "    name = 'Sqrt_TS_Band'; format = '7E'\n",
       "    name = 'Variability_Index'; format = 'E'; disp = 'F10.4'\n",
       "    name = 'Frac_Variability'; format = 'E'; disp = 'F7.4'\n",
       "    name = 'Unc_Frac_Variability'; format = 'E'; disp = 'F7.4'\n",
       "    name = 'Signif_Peak'; format = 'E'; disp = 'F8.3'\n",
       "    name = 'Flux_Peak'; format = 'E'; unit = 'ph cm-2 s-1'\n",
       "    name = 'Unc_Flux_Peak'; format = 'E'; unit = 'ph cm-2 s-1'\n",
       "    name = 'Time_Peak'; format = 'D'; unit = 's'\n",
       "    name = 'Peak_Interval'; format = 'E'; unit = 's'\n",
       "    name = 'Flux_History'; format = '10E'; unit = 'ph cm-2 s-1'\n",
       "    name = 'Unc_Flux_History'; format = '20E'; unit = 'ph cm-2 s-1'; dim = '( 2, 10)'\n",
       "    name = 'Sqrt_TS_History'; format = '10E'\n",
       "    name = 'ASSOC_FGL'; format = '18A'\n",
       "    name = 'ASSOC_FHL'; format = '18A'\n",
       "    name = 'ASSOC_GAM1'; format = '18A'\n",
       "    name = 'ASSOC_GAM2'; format = '18A'\n",
       "    name = 'ASSOC_GAM3'; format = '18A'\n",
       "    name = 'TEVCAT_FLAG'; format = 'A'\n",
       "    name = 'ASSOC_TEV'; format = '26A'\n",
       "    name = 'CLASS1'; format = '5A'\n",
       "    name = 'CLASS2'; format = '5A'\n",
       "    name = 'ASSOC1'; format = '28A'\n",
       "    name = 'ASSOC2'; format = '26A'\n",
       "    name = 'ASSOC_PROB_BAY'; format = 'E'; disp = 'F6.4'\n",
       "    name = 'ASSOC_PROB_LR'; format = 'E'; disp = 'F6.4'\n",
       "    name = 'RA_Counterpart'; format = 'D'; unit = 'deg'; disp = 'F8.4'\n",
       "    name = 'DEC_Counterpart'; format = 'D'; unit = 'deg'; disp = 'F8.4'\n",
       "    name = 'Unc_Counterpart'; format = 'E'; unit = 'deg'; disp = 'F8.5'\n",
       "    name = 'Flags'; format = 'I'\n",
       ")"
      ]
     },
     "execution_count": 11,
     "metadata": {},
     "output_type": "execute_result"
    }
   ],
   "source": [
    "### what about 4FGL catalog \n",
    "\n",
    "read_4FGLDR2_cat = fits.open('/home/sbhattacharyya/Music/gll_psc_v27.fit')\n",
    "read_4FGLDR2_cat[1].data.columns"
   ]
  },
  {
   "cell_type": "code",
   "execution_count": 13,
   "id": "f56f3895",
   "metadata": {},
   "outputs": [
    {
     "name": "stderr",
     "output_type": "stream",
     "text": [
      "WARNING: hdu= was not specified but multiple tables are present, reading in first available table (hdu=1) [astropy.io.fits.connect]\n"
     ]
    },
    {
     "data": {
      "text/html": [
       "<div>\n",
       "<style scoped>\n",
       "    .dataframe tbody tr th:only-of-type {\n",
       "        vertical-align: middle;\n",
       "    }\n",
       "\n",
       "    .dataframe tbody tr th {\n",
       "        vertical-align: top;\n",
       "    }\n",
       "\n",
       "    .dataframe thead th {\n",
       "        text-align: right;\n",
       "    }\n",
       "</style>\n",
       "<table border=\"1\" class=\"dataframe\">\n",
       "  <thead>\n",
       "    <tr style=\"text-align: right;\">\n",
       "      <th></th>\n",
       "      <th>Source_Name</th>\n",
       "      <th>DataRelease</th>\n",
       "      <th>RAJ2000</th>\n",
       "      <th>DEJ2000</th>\n",
       "      <th>GLON</th>\n",
       "      <th>GLAT</th>\n",
       "      <th>Conf_68_SemiMajor</th>\n",
       "      <th>Conf_68_SemiMinor</th>\n",
       "      <th>Conf_68_PosAng</th>\n",
       "      <th>Conf_95_SemiMajor</th>\n",
       "      <th>...</th>\n",
       "      <th>CLASS1</th>\n",
       "      <th>CLASS2</th>\n",
       "      <th>ASSOC1</th>\n",
       "      <th>ASSOC2</th>\n",
       "      <th>ASSOC_PROB_BAY</th>\n",
       "      <th>ASSOC_PROB_LR</th>\n",
       "      <th>RA_Counterpart</th>\n",
       "      <th>DEC_Counterpart</th>\n",
       "      <th>Unc_Counterpart</th>\n",
       "      <th>Flags</th>\n",
       "    </tr>\n",
       "  </thead>\n",
       "  <tbody>\n",
       "    <tr>\n",
       "      <th>0</th>\n",
       "      <td>4FGL J0000.3-7355</td>\n",
       "      <td>1</td>\n",
       "      <td>0.0983</td>\n",
       "      <td>-73.921997</td>\n",
       "      <td>307.708984</td>\n",
       "      <td>-42.729538</td>\n",
       "      <td>0.032378</td>\n",
       "      <td>0.031453</td>\n",
       "      <td>-62.700001</td>\n",
       "      <td>0.0525</td>\n",
       "      <td>...</td>\n",
       "      <td></td>\n",
       "      <td></td>\n",
       "      <td></td>\n",
       "      <td></td>\n",
       "      <td>0.000000</td>\n",
       "      <td>0.000000</td>\n",
       "      <td>NaN</td>\n",
       "      <td>NaN</td>\n",
       "      <td>NaN</td>\n",
       "      <td>0</td>\n",
       "    </tr>\n",
       "    <tr>\n",
       "      <th>1</th>\n",
       "      <td>4FGL J0000.5+0743</td>\n",
       "      <td>2</td>\n",
       "      <td>0.1375</td>\n",
       "      <td>7.727300</td>\n",
       "      <td>101.656479</td>\n",
       "      <td>-53.029457</td>\n",
       "      <td>0.094544</td>\n",
       "      <td>0.069999</td>\n",
       "      <td>-10.220000</td>\n",
       "      <td>0.1533</td>\n",
       "      <td>...</td>\n",
       "      <td></td>\n",
       "      <td></td>\n",
       "      <td></td>\n",
       "      <td></td>\n",
       "      <td>0.000000</td>\n",
       "      <td>0.000000</td>\n",
       "      <td>NaN</td>\n",
       "      <td>NaN</td>\n",
       "      <td>NaN</td>\n",
       "      <td>0</td>\n",
       "    </tr>\n",
       "    <tr>\n",
       "      <th>2</th>\n",
       "      <td>4FGL J0001.2+4741</td>\n",
       "      <td>1</td>\n",
       "      <td>0.3126</td>\n",
       "      <td>47.685902</td>\n",
       "      <td>114.250198</td>\n",
       "      <td>-14.338059</td>\n",
       "      <td>0.036880</td>\n",
       "      <td>0.033180</td>\n",
       "      <td>-45.900002</td>\n",
       "      <td>0.0598</td>\n",
       "      <td>...</td>\n",
       "      <td>bcu</td>\n",
       "      <td></td>\n",
       "      <td>B3 2358+474</td>\n",
       "      <td></td>\n",
       "      <td>0.996097</td>\n",
       "      <td>0.938563</td>\n",
       "      <td>0.329341</td>\n",
       "      <td>47.700201</td>\n",
       "      <td>8.400000e-07</td>\n",
       "      <td>0</td>\n",
       "    </tr>\n",
       "    <tr>\n",
       "      <th>3</th>\n",
       "      <td>4FGL J0001.2-0747</td>\n",
       "      <td>1</td>\n",
       "      <td>0.3151</td>\n",
       "      <td>-7.797100</td>\n",
       "      <td>89.032722</td>\n",
       "      <td>-67.305008</td>\n",
       "      <td>0.018440</td>\n",
       "      <td>0.017577</td>\n",
       "      <td>64.099998</td>\n",
       "      <td>0.0299</td>\n",
       "      <td>...</td>\n",
       "      <td>bll</td>\n",
       "      <td></td>\n",
       "      <td>PMN J0001-0746</td>\n",
       "      <td></td>\n",
       "      <td>0.997014</td>\n",
       "      <td>0.932932</td>\n",
       "      <td>0.325104</td>\n",
       "      <td>-7.774145</td>\n",
       "      <td>1.800000e-07</td>\n",
       "      <td>0</td>\n",
       "    </tr>\n",
       "  </tbody>\n",
       "</table>\n",
       "<p>4 rows × 67 columns</p>\n",
       "</div>"
      ],
      "text/plain": [
       "          Source_Name  DataRelease  RAJ2000    DEJ2000        GLON       GLAT  \\\n",
       "0  4FGL J0000.3-7355             1   0.0983 -73.921997  307.708984 -42.729538   \n",
       "1  4FGL J0000.5+0743             2   0.1375   7.727300  101.656479 -53.029457   \n",
       "2  4FGL J0001.2+4741             1   0.3126  47.685902  114.250198 -14.338059   \n",
       "3  4FGL J0001.2-0747             1   0.3151  -7.797100   89.032722 -67.305008   \n",
       "\n",
       "   Conf_68_SemiMajor  Conf_68_SemiMinor  Conf_68_PosAng  Conf_95_SemiMajor  \\\n",
       "0           0.032378           0.031453      -62.700001             0.0525   \n",
       "1           0.094544           0.069999      -10.220000             0.1533   \n",
       "2           0.036880           0.033180      -45.900002             0.0598   \n",
       "3           0.018440           0.017577       64.099998             0.0299   \n",
       "\n",
       "   ...  CLASS1  CLASS2                        ASSOC1  \\\n",
       "0  ...                                                 \n",
       "1  ...                                                 \n",
       "2  ...   bcu            B3 2358+474                    \n",
       "3  ...   bll            PMN J0001-0746                 \n",
       "\n",
       "                       ASSOC2  ASSOC_PROB_BAY  ASSOC_PROB_LR  RA_Counterpart  \\\n",
       "0                                    0.000000       0.000000             NaN   \n",
       "1                                    0.000000       0.000000             NaN   \n",
       "2                                    0.996097       0.938563        0.329341   \n",
       "3                                    0.997014       0.932932        0.325104   \n",
       "\n",
       "   DEC_Counterpart  Unc_Counterpart  Flags  \n",
       "0              NaN              NaN      0  \n",
       "1              NaN              NaN      0  \n",
       "2        47.700201     8.400000e-07      0  \n",
       "3        -7.774145     1.800000e-07      0  \n",
       "\n",
       "[4 rows x 67 columns]"
      ]
     },
     "execution_count": 13,
     "metadata": {},
     "output_type": "execute_result"
    }
   ],
   "source": [
    "#### turn this into a dataframe\n",
    "\n",
    "read_4FGLcat_data_tab = Table.read(read_4FGLDR2_cat, format='fits')\n",
    "\n",
    "names_4FGL = [name for name in read_4FGLcat_data_tab.colnames if len(read_4FGLcat_data_tab[name].shape)<=1]\n",
    "df_4FGL = read_4FGLcat_data_tab[names_4FGL].to_pandas()\n",
    "df_4FGL.head(4)"
   ]
  },
  {
   "cell_type": "code",
   "execution_count": 15,
   "id": "ae1314de",
   "metadata": {},
   "outputs": [
    {
     "name": "stdout",
     "output_type": "stream",
     "text": [
      "how many psrs in DR2:  (271, 67)\n"
     ]
    }
   ],
   "source": [
    "#### select the pulsars they are distributed more close to the planes\n",
    "\n",
    "df_4FGL_psrs = df_4FGL[(df_4FGL['CLASS1']=='psr  ') | (df_4FGL['CLASS1']=='PSR  ')]\n",
    "print ('how many psrs in DR2: ', df_4FGL_psrs.shape) "
   ]
  },
  {
   "cell_type": "code",
   "execution_count": 22,
   "id": "4f2cf62f",
   "metadata": {},
   "outputs": [
    {
     "data": {
      "image/png": "[encoded data removed]",
      "text/plain": [
       "<Figure size 800x500 with 2 Axes>"
      ]
     },
     "metadata": {},
     "output_type": "display_data"
    }
   ],
   "source": [
    "fig = plt.figure(figsize=(8, 5))\n",
    "fig.add_subplot(121)\n",
    "plt.hist(df_4FGL_psrs['GLAT'], alpha=0.7)\n",
    "plt.xlabel('GLAT')\n",
    "fig.add_subplot(122)\n",
    "plt.hist(df_4FGL_psrs['GLON'], alpha=0.7)\n",
    "plt.xlabel('GLON')\n",
    "plt.tight_layout()\n",
    "plt.show()"
   ]
  },
  {
   "cell_type": "code",
   "execution_count": 23,
   "id": "cc759fac",
   "metadata": {},
   "outputs": [
    {
     "data": {
      "image/png": "[encoded data removed]",
      "text/plain": [
       "<Figure size 800x500 with 2 Axes>"
      ]
     },
     "metadata": {},
     "output_type": "display_data"
    }
   ],
   "source": [
    "fig = plt.figure(figsize=(8, 5))\n",
    "fig.add_subplot(121)\n",
    "plt.hist(np.sin(df_4FGL_psrs['GLAT']), alpha=0.7)\n",
    "plt.xlabel('sin(GLAT)')\n",
    "fig.add_subplot(122)\n",
    "plt.hist(df_4FGL_psrs['GLON'], alpha=0.7)\n",
    "plt.xlabel('GLON')\n",
    "plt.tight_layout()\n",
    "plt.show()"
   ]
  },
  {
   "cell_type": "code",
   "execution_count": null,
   "id": "abb6d018",
   "metadata": {},
   "outputs": [],
   "source": []
  }
 ],
 "metadata": {
  "kernelspec": {
   "display_name": "Python 3 (ipykernel)",
   "language": "python",
   "name": "python3"
  },
  "language_info": {
   "codemirror_mode": {
    "name": "ipython",
    "version": 3
   },
   "file_extension": ".py",
   "mimetype": "text/x-python",
   "name": "python",
   "nbconvert_exporter": "python",
   "pygments_lexer": "ipython3",
   "version": "3.9.18"
  }
 },
 "nbformat": 4,
 "nbformat_minor": 5
}
